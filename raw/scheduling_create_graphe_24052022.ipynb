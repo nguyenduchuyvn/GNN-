{
  "cells": [
    {
      "cell_type": "code",
      "execution_count": 30,
      "metadata": {
        "id": "BvW6RyNMjXZ9"
      },
      "outputs": [],
      "source": [
        "import numpy as np\n",
        "import itertools\n",
        "import networkx as nx\n",
        "import matplotlib.pyplot as plt"
      ]
    },
    {
      "cell_type": "code",
      "execution_count": 31,
      "metadata": {
        "id": "gbpj4YPtjc80"
      },
      "outputs": [],
      "source": [
        "# Matrix T, technology sequences\n",
        "# T = np.array([[1,2,3],\n",
        "#               [1,3,2],\n",
        "#               [2,1,3]])\n",
        "# # Matrix P, processing time\n",
        "# P = np.array([[3,3,3],\n",
        "#               [2,3,4],\n",
        "#               [3,2,1]])\n",
        "\n",
        "\n",
        "dataset = np.load('./dataset/generatedData3_3_Seed200.npy')\n",
        "\n",
        "P = dataset[0][0] # First data\n",
        "T = dataset[0][1] # First data"
      ]
    },
    {
      "cell_type": "code",
      "execution_count": 32,
      "metadata": {},
      "outputs": [],
      "source": [
        "ground_truth = np.load('/Users/vu/Desktop/RnD/ground_truth/generatedData3_3_Seed200.npy')\n",
        "\n",
        "P_gt = ground_truth[0]"
      ]
    },
    {
      "cell_type": "code",
      "execution_count": 33,
      "metadata": {},
      "outputs": [
        {
          "data": {
            "text/plain": [
              "(array([[27, 17, 69],\n",
              "        [43, 56, 77],\n",
              "        [80, 90, 15]]),\n",
              " array([[[  0.,   0.,  27.,  27.],\n",
              "         [  1.,  27.,  43.,  70.],\n",
              "         [  2., 170.,  15., 185.]],\n",
              " \n",
              "        [[  0.,  27.,  17.,  44.],\n",
              "         [  2.,  80.,  90., 170.],\n",
              "         [  1., 170.,  77., 247.]],\n",
              " \n",
              "        [[  2.,   0.,  80.,  80.],\n",
              "         [  1., 114.,  56., 170.],\n",
              "         [  0., 170.,  69., 239.]]]))"
            ]
          },
          "execution_count": 33,
          "metadata": {},
          "output_type": "execute_result"
        }
      ],
      "source": [
        "P,P_gt"
      ]
    },
    {
      "cell_type": "code",
      "execution_count": 34,
      "metadata": {},
      "outputs": [
        {
          "data": {
            "text/plain": [
              "(array([[1, 2, 3],\n",
              "        [1, 3, 2],\n",
              "        [3, 2, 1]]),\n",
              " array([[27, 17, 69],\n",
              "        [43, 56, 77],\n",
              "        [80, 90, 15]]))"
            ]
          },
          "execution_count": 34,
          "metadata": {},
          "output_type": "execute_result"
        }
      ],
      "source": [
        "T,P"
      ]
    },
    {
      "cell_type": "code",
      "execution_count": 115,
      "metadata": {
        "colab": {
          "base_uri": "https://localhost:8080/"
        },
        "id": "pb61p3RNj7o2",
        "outputId": "3311178d-985a-44e5-a42a-ca199362a6cd"
      },
      "outputs": [
        {
          "name": "stdout",
          "output_type": "stream",
          "text": [
            "[('11', '12'), ('12', '13'), ('O', '11'), ('13', 'T'), ('21', '23'), ('23', '22'), ('O', '21'), ('22', 'T'), ('33', '32'), ('32', '31'), ('O', '33'), ('31', 'T')]\n"
          ]
        }
      ],
      "source": [
        "# add edge related to technology sequence ( order machine for job J)\n",
        "# example: for job 2, we have order 1,3,2 ==> edge ('21', '23') - ('23', '22')\n",
        "# 'O' refer to node \"start\", T refer to \"ternimate\"\n",
        "edge = []\n",
        "job_list = np.arange(1,T.shape[1]+1) #[1,2, 3]\n",
        "machine_list = np.arange(1,T.shape[0]+1) # [1, 2, 3]\n",
        "for i in job_list:\n",
        "    for j in range(len(machine_list)-1):\n",
        "        # print(i,j)\n",
        "        edge.append((str(i) + str(T[i-1,j]), str(i) + str(T[i-1,j+1])))\n",
        "\n",
        "    edge.append((str('O'), str(i) + str(T[i-1,0])))\n",
        "    edge.append((str(i) + str(T[i-1,-1]), str('T')))\n",
        "        \n",
        "print(edge)\n"
      ]
    },
    {
      "cell_type": "code",
      "execution_count": 116,
      "metadata": {
        "colab": {
          "base_uri": "https://localhost:8080/"
        },
        "id": "1KvE5Djikz0O",
        "outputId": "7419c1c1-c5a9-44b5-a75e-831f59c4a70f"
      },
      "outputs": [],
      "source": [
        "# add edge related to pair of jobs in same machine\n",
        "for m in range(1,P_gt.shape[0] + 1): \n",
        "    # Get solution of each machine \n",
        "    ground_truth = P_gt[m-1]\n",
        "\n",
        "    flow = []\n",
        "\n",
        "    for job_data in ground_truth:\n",
        "        # Job data has format:\n",
        "        # [job_id, processing_time, start_time, end_time]\n",
        "        flow.append(str(int(job_data[0]) + 1) + str(m)) # job_id is count from 1 to J\n",
        "        \n",
        "    # Concate sequence of nodes to get arcs of pair job-machine\n",
        "    for i in range(len(nodes)-1):\n",
        "        edge.append((str(flow[i]), str(flow[i+1])))"
      ]
    },
    {
      "cell_type": "code",
      "execution_count": 117,
      "metadata": {
        "id": "SYSMsyaA0PTe"
      },
      "outputs": [],
      "source": [
        "import networkx as nx\n",
        "\n",
        "# Add edge value\n",
        "G = nx.DiGraph()\n",
        "for e in edge:\n",
        "    G.add_edge(*e)\n",
        "\n",
        "# Loop node in Graph\n",
        "for n in G:\n",
        "    if n != \"O\" and n != \"T\":\n",
        "        # Add value for node\n",
        "        G.nodes[n]['value'] = P[int(n[0])-1, int(n[1])-1]\n",
        "\n",
        "G.add_edges_from(edge)"
      ]
    },
    {
      "cell_type": "code",
      "execution_count": 119,
      "metadata": {
        "colab": {
          "base_uri": "https://localhost:8080/",
          "height": 411
        },
        "id": "BMYfYQNa33jG",
        "outputId": "0a7fb23d-1068-4377-cb86-16e64af58620"
      },
      "outputs": [
        {
          "name": "stdout",
          "output_type": "stream",
          "text": [
            "{'11': 27, '12': 17, '13': 69, '21': 43, '23': 77, '22': 56, '33': 15, '32': 90, '31': 80}\n"
          ]
        },
        {
          "data": {
            "image/png": "[encoded data removed]",
            "text/plain": [
              "<Figure size 504x504 with 1 Axes>"
            ]
          },
          "metadata": {},
          "output_type": "display_data"
        }
      ],
      "source": [
        "def visualize_graph(G, color):\n",
        "    plt.figure(figsize=(7,7))\n",
        "    plt.xticks([])\n",
        "    plt.yticks([])\n",
        "    pos=nx.spring_layout(G) \n",
        "    node_attrs = nx.get_node_attributes(G, 'value')\n",
        "    print(node_attrs)\n",
        "    pos_attrs = {}\n",
        "    for node, coords in pos.items():\n",
        "        pos_attrs[node] = (coords[0], coords[1] + 0.08)\n",
        "        \n",
        "    labels = nx.get_edge_attributes(G,'weight')\n",
        "\n",
        "    nx.draw_networkx(G, pos, with_labels=True,\n",
        "                    arrows= True, cmap=\"Set2\")\n",
        "\n",
        "    # Draw edge value\n",
        "    # nx.draw_networkx_edge_labels(G,pos,edge_labels=labels) \n",
        "\n",
        "    # Draw node value\n",
        "    nx.draw_networkx_labels(G, pos_attrs, labels=node_attrs)\n",
        "\n",
        "    # Draw value of node \n",
        "    plt.show()\n",
        "\n",
        "color = None\n",
        "visualize_graph(G, color)    "
      ]
    },
    {
      "cell_type": "code",
      "execution_count": null,
      "metadata": {
        "id": "wud1Ubrb6Ss_"
      },
      "outputs": [],
      "source": []
    },
    {
      "cell_type": "code",
      "execution_count": null,
      "metadata": {},
      "outputs": [],
      "source": []
    }
  ],
  "metadata": {
    "colab": {
      "name": "scheduling_create-graphe.ipynb",
      "provenance": []
    },
    "interpreter": {
      "hash": "205e162009f75e3c9d0018064a8f8bee7f578a7c1d4b845eb10475465d58760d"
    },
    "kernelspec": {
      "display_name": "Python 3.7.13 ('datvu')",
      "language": "python",
      "name": "python3"
    },
    "language_info": {
      "codemirror_mode": {
        "name": "ipython",
        "version": 3
      },
      "file_extension": ".py",
      "mimetype": "text/x-python",
      "name": "python",
      "nbconvert_exporter": "python",
      "pygments_lexer": "ipython3",
      "version": "3.7.13"
    }
  },
  "nbformat": 4,
  "nbformat_minor": 0
}
